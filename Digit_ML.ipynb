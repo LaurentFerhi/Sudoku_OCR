{
 "cells": [
  {
   "cell_type": "code",
   "execution_count": 1,
   "metadata": {},
   "outputs": [],
   "source": [
    "import os\n",
    "import numpy as np\n",
    "\n",
    "from PIL import Image, ImageChops\n",
    "import operator\n",
    "from collections import Counter\n",
    "from matplotlib import pyplot as plt\n",
    "import seaborn as sns\n",
    "sns.set()\n",
    "import warnings\n",
    "warnings.filterwarnings('ignore')\n",
    "\n",
    "import pandas as pd\n",
    "from tqdm import tqdm\n",
    "tqdm.pandas()\n",
    "from skimage.transform import resize\n",
    "\n",
    "from sklearn.model_selection import train_test_split\n",
    "from sklearn.model_selection import StratifiedShuffleSplit\n",
    "from sklearn.feature_selection import SelectKBest, f_classif\n",
    "from sklearn.pipeline import Pipeline\n",
    "from sklearn.model_selection import GridSearchCV\n",
    "from sklearn.metrics import classification_report\n",
    "from sklearn.metrics import confusion_matrix\n",
    "\n",
    "import pickle as pk"
   ]
  },
  {
   "cell_type": "markdown",
   "metadata": {},
   "source": [
    "## Train ML model"
   ]
  },
  {
   "cell_type": "code",
   "execution_count": 3,
   "metadata": {},
   "outputs": [
    {
     "name": "stderr",
     "output_type": "stream",
     "text": [
      "100%|██████████████████████████████████████████████████████████████████████████████████| 10/10 [01:22<00:00,  8.24s/it]\n"
     ]
    }
   ],
   "source": [
    "train_path = 'dataset'\n",
    "l = []\n",
    "\n",
    "for subpath in tqdm(os.listdir(train_path)):\n",
    "    for file in os.listdir(train_path+'/'+subpath):\n",
    "        path = train_path+'/'+subpath+'/'+file\n",
    "        im = Image.open(path)\n",
    "        im_arr = (np.array(ImageChops.invert(Image.open(path)).resize((28,28)))/255).flatten()\n",
    "        im_arr = np.append(im_arr, int(subpath))\n",
    "        l.append(im_arr)\n",
    "\n",
    "dataset = pd.DataFrame(l)\n",
    "dataset = dataset.rename(columns={784:'label'})\n",
    "dataset.to_csv('dataset.csv',index=False)"
   ]
  },
  {
   "cell_type": "code",
   "execution_count": 2,
   "metadata": {},
   "outputs": [
    {
     "name": "stdout",
     "output_type": "stream",
     "text": [
      "training set population Counter({5.0: 826, 9.0: 820, 7.0: 818, 8.0: 816, 2.0: 816, 4.0: 815, 6.0: 813, 1.0: 810, 3.0: 799, 0.0: 795})\n"
     ]
    }
   ],
   "source": [
    "dataset = pd.read_csv('dataset.csv')\n",
    "X = np.array(dataset.drop('label',axis=1))\n",
    "y = np.array(dataset.label)\n",
    "\n",
    "X_train, X_test, y_train, y_test = train_test_split(X, y, test_size=0.2, random_state=42)\n",
    "print('training set population',Counter(y_train))"
   ]
  },
  {
   "cell_type": "code",
   "execution_count": 3,
   "metadata": {},
   "outputs": [
    {
     "name": "stdout",
     "output_type": "stream",
     "text": [
      " > training classifier on training set:\n",
      "Fitting 5 folds for each of 1 candidates, totalling 5 fits\n"
     ]
    },
    {
     "name": "stderr",
     "output_type": "stream",
     "text": [
      "[Parallel(n_jobs=1)]: Using backend SequentialBackend with 1 concurrent workers.\n",
      "[Parallel(n_jobs=1)]: Done   5 out of   5 | elapsed:   36.7s finished\n"
     ]
    },
    {
     "name": "stdout",
     "output_type": "stream",
     "text": [
      " > testing classifier on testing set:\n",
      "\n",
      " > Best grid search:\n",
      "{'SKB__k': 'all'}\n",
      "              precision    recall  f1-score   support\n",
      "\n",
      "         0.0       0.98      1.00      0.99       221\n",
      "         1.0       0.99      1.00      0.99       206\n",
      "         2.0       0.98      0.99      0.99       200\n",
      "         3.0       0.99      0.99      0.99       217\n",
      "         4.0       0.99      0.99      0.99       201\n",
      "         5.0       0.99      0.98      0.99       190\n",
      "         6.0       0.99      0.98      0.98       203\n",
      "         7.0       0.99      0.99      0.99       198\n",
      "         8.0       0.99      0.98      0.99       200\n",
      "         9.0       0.99      0.97      0.98       196\n",
      "\n",
      "    accuracy                           0.99      2032\n",
      "   macro avg       0.99      0.99      0.99      2032\n",
      "weighted avg       0.99      0.99      0.99      2032\n",
      "\n",
      "Wall time: 42.8 s\n"
     ]
    }
   ],
   "source": [
    "%%time\n",
    "\n",
    "# cross-validator : Stratified Shuffle Split \n",
    "sss = StratifiedShuffleSplit(n_splits = 5, test_size = 0.2, random_state = 42) \n",
    "\n",
    "# Functions to be used in the pipeline\n",
    "skb = SelectKBest(f_classif)\n",
    "\n",
    "### Define classifier ###\n",
    "from sklearn.ensemble import RandomForestClassifier\n",
    "clf = RandomForestClassifier()\n",
    "\n",
    "# definition of the pipeline\n",
    "pipeline = Pipeline(steps = [\n",
    "    ('SKB',skb),\n",
    "    ('LDA',clf)\n",
    "])   \n",
    "\n",
    "# parameters to tune \n",
    "param_grid = {\n",
    "    'SKB__k':['all'],\n",
    "} \n",
    "\n",
    "# exhaustive search over specified parameter\n",
    "grid = GridSearchCV(pipeline, param_grid, verbose = 1, cv = sss)\n",
    "\n",
    "# training classifier\n",
    "print (\" > training classifier on training set:\")\n",
    "grid.fit(X_train, y_train)\n",
    "\n",
    "# best classifier using the cross-validator and the Stratified Shuffle Split \n",
    "clf = grid.best_estimator_\n",
    "\n",
    "# predicition with the classifier\n",
    "print (\" > testing classifier on testing set:\")\n",
    "y_pred = clf.predict(X_test)\n",
    "\n",
    "# print grid parameters\n",
    "print (\"\\n > Best grid search:\")\n",
    "print (grid.best_params_)\n",
    "print(classification_report(y_test, y_pred))"
   ]
  },
  {
   "cell_type": "code",
   "execution_count": 4,
   "metadata": {},
   "outputs": [
    {
     "ename": "NameError",
     "evalue": "name 'confusion_matrix' is not defined",
     "output_type": "error",
     "traceback": [
      "\u001b[1;31m---------------------------------------------------------------------------\u001b[0m",
      "\u001b[1;31mNameError\u001b[0m                                 Traceback (most recent call last)",
      "\u001b[1;32m<ipython-input-4-62ca7144b131>\u001b[0m in \u001b[0;36m<module>\u001b[1;34m\u001b[0m\n\u001b[0;32m      2\u001b[0m \u001b[0mfig\u001b[0m\u001b[1;33m,\u001b[0m \u001b[0max\u001b[0m \u001b[1;33m=\u001b[0m \u001b[0mplt\u001b[0m\u001b[1;33m.\u001b[0m\u001b[0msubplots\u001b[0m\u001b[1;33m(\u001b[0m\u001b[0mfigsize\u001b[0m\u001b[1;33m=\u001b[0m\u001b[1;33m(\u001b[0m\u001b[1;36m8\u001b[0m\u001b[1;33m,\u001b[0m \u001b[1;36m6\u001b[0m\u001b[1;33m)\u001b[0m\u001b[1;33m)\u001b[0m\u001b[1;33m\u001b[0m\u001b[1;33m\u001b[0m\u001b[0m\n\u001b[0;32m      3\u001b[0m sns.heatmap(\n\u001b[1;32m----> 4\u001b[1;33m     \u001b[0mconfusion_matrix\u001b[0m\u001b[1;33m(\u001b[0m\u001b[0my_test\u001b[0m\u001b[1;33m,\u001b[0m \u001b[0my_pred\u001b[0m\u001b[1;33m)\u001b[0m\u001b[1;33m,\u001b[0m\u001b[1;33m\u001b[0m\u001b[1;33m\u001b[0m\u001b[0m\n\u001b[0m\u001b[0;32m      5\u001b[0m     \u001b[0mcmap\u001b[0m\u001b[1;33m=\u001b[0m\u001b[1;34m'YlGnBu'\u001b[0m\u001b[1;33m,\u001b[0m\u001b[1;33m\u001b[0m\u001b[1;33m\u001b[0m\u001b[0m\n\u001b[0;32m      6\u001b[0m     \u001b[0mlinewidths\u001b[0m\u001b[1;33m=\u001b[0m\u001b[1;36m.2\u001b[0m\u001b[1;33m,\u001b[0m\u001b[1;33m\u001b[0m\u001b[1;33m\u001b[0m\u001b[0m\n",
      "\u001b[1;31mNameError\u001b[0m: name 'confusion_matrix' is not defined"
     ]
    },
    {
     "data": {
      "image/png": "[encoded data removed]",
      "text/plain": [
       "<Figure size 576x432 with 1 Axes>"
      ]
     },
     "metadata": {},
     "output_type": "display_data"
    }
   ],
   "source": [
    "# Confusion matrix\n",
    "fig, ax = plt.subplots(figsize=(8, 6))\n",
    "sns.heatmap(\n",
    "    confusion_matrix(y_test, y_pred), \n",
    "    cmap='YlGnBu', \n",
    "    linewidths=.2,\n",
    "    linecolor='gray',\n",
    "    cbar_kws={\"shrink\": .8},\n",
    "    annot = True,\n",
    "    fmt='d'\n",
    ")"
   ]
  },
  {
   "cell_type": "code",
   "execution_count": null,
   "metadata": {},
   "outputs": [],
   "source": [
    "# dump classifier in a pickle file\n",
    "print (\"\\n > Classifier dumped\")\n",
    "with open(\"digit_classifier.pkl\", 'wb') as fid:\n",
    "    pk.dump(clf, fid)"
   ]
  },
  {
   "cell_type": "code",
   "execution_count": null,
   "metadata": {},
   "outputs": [],
   "source": []
  }
 ],
 "metadata": {
  "kernelspec": {
   "display_name": "Python 3",
   "language": "python",
   "name": "python3"
  },
  "language_info": {
   "codemirror_mode": {
    "name": "ipython",
    "version": 3
   },
   "file_extension": ".py",
   "mimetype": "text/x-python",
   "name": "python",
   "nbconvert_exporter": "python",
   "pygments_lexer": "ipython3",
   "version": "3.7.6"
  }
 },
 "nbformat": 4,
 "nbformat_minor": 4
}
