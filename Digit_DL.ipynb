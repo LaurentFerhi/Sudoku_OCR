{
 "cells": [
  {
   "cell_type": "code",
   "execution_count": 1,
   "metadata": {},
   "outputs": [],
   "source": [
    "import os\n",
    "import numpy as np\n",
    "\n",
    "from PIL import Image, ImageChops\n",
    "import operator\n",
    "from collections import Counter\n",
    "from matplotlib import pyplot as plt\n",
    "import seaborn as sns\n",
    "sns.set()\n",
    "import warnings\n",
    "warnings.filterwarnings('ignore')\n",
    "\n",
    "import pandas as pd\n",
    "\n",
    "from sklearn.model_selection import train_test_split\n",
    "from sklearn.metrics import classification_report\n",
    "from sklearn.metrics import confusion_matrix\n",
    "\n",
    "from keras.preprocessing.image import ImageDataGenerator\n",
    "from keras.layers import Conv2D, MaxPooling2D, ZeroPadding2D, GlobalAveragePooling2D, Flatten\n",
    "from tensorflow.keras.layers import BatchNormalization\n",
    "from keras.models import Sequential  \n",
    "from keras.layers.core import Dense, Dropout, Activation "
   ]
  },
  {
   "cell_type": "markdown",
   "metadata": {},
   "source": [
    "## Train ML model"
   ]
  },
  {
   "cell_type": "code",
   "execution_count": 6,
   "metadata": {},
   "outputs": [
    {
     "name": "stdout",
     "output_type": "stream",
     "text": [
      "Build dataset\n",
      "\n"
     ]
    }
   ],
   "source": [
    "train_path = 'dataset'\n",
    "l = []\n",
    "\n",
    "print('Build dataset')\n",
    "for subpath in os.listdir(train_path):\n",
    "    for file in os.listdir(train_path+'/'+subpath):\n",
    "        path = train_path+'/'+subpath+'/'+file\n",
    "        im = Image.open(path)\n",
    "        im_arr = (np.array(ImageChops.invert(Image.open(path)).resize((28,28)))/255).flatten()\n",
    "        im_arr = np.append(im_arr, int(subpath))\n",
    "        l.append(im_arr)\n",
    "\n",
    "dataset = pd.DataFrame(l)\n",
    "dataset = dataset.rename(columns={784:'label'})\n",
    "dataset.to_csv('dataset.csv',index=False)"
   ]
  },
  {
   "cell_type": "code",
   "execution_count": 26,
   "metadata": {},
   "outputs": [
    {
     "name": "stdout",
     "output_type": "stream",
     "text": [
      "training set population Counter({5.0: 826, 9.0: 820, 7.0: 818, 8.0: 816, 2.0: 816, 4.0: 815, 6.0: 813, 1.0: 810, 3.0: 799, 0.0: 795})\n"
     ]
    }
   ],
   "source": [
    "dataset = pd.read_csv('dataset.csv')\n",
    "X = np.array(dataset.drop('label',axis=1))\n",
    "y = np.array(dataset.label)\n",
    "\n",
    "X_train, X_test, y_train, y_test = train_test_split(X, y, test_size=0.2, random_state=42)\n",
    "print('training set population',Counter(y_train))"
   ]
  },
  {
   "cell_type": "code",
   "execution_count": 27,
   "metadata": {},
   "outputs": [],
   "source": [
    "X_train = X_train.reshape(X_train.shape[0], 28, 28, 1)\n",
    "X_test = X_test.reshape(X_test.shape[0], 28, 28, 1)"
   ]
  },
  {
   "cell_type": "code",
   "execution_count": 28,
   "metadata": {},
   "outputs": [
    {
     "name": "stdout",
     "output_type": "stream",
     "text": [
      "Training matrix shape (8128, 28, 28, 1)\n",
      "Testing matrix shape (2032, 28, 28, 1)\n"
     ]
    }
   ],
   "source": [
    "print(\"Training matrix shape\", X_train.shape)\n",
    "print(\"Testing matrix shape\", X_test.shape)"
   ]
  },
  {
   "cell_type": "code",
   "execution_count": 29,
   "metadata": {},
   "outputs": [],
   "source": [
    "nb_classes = 10 # number of unique digits\n",
    "batch_size = 64\n",
    "epochs = 20\n",
    "\n",
    "y_train = np_utils.to_categorical(y_train, nb_classes)"
   ]
  },
  {
   "cell_type": "code",
   "execution_count": 30,
   "metadata": {},
   "outputs": [],
   "source": [
    "X_train, X_val, y_train, y_val = train_test_split(X_train, y_train, test_size = 0.1, random_state=42)"
   ]
  },
  {
   "cell_type": "code",
   "execution_count": 31,
   "metadata": {},
   "outputs": [],
   "source": [
    "model = Sequential()                                 # Linear stacking of layers\n",
    "\n",
    "# Convolution Layer 1\n",
    "model.add(Conv2D(32, (3, 3), input_shape=(28,28,1))) # 32 different 3x3 kernels -- so 32 feature maps\n",
    "model.add(BatchNormalization(axis=-1))               # normalize each feature map before activation\n",
    "convLayer01 = Activation('relu')                     # activation\n",
    "model.add(convLayer01)\n",
    "\n",
    "# Convolution Layer 2\n",
    "model.add(Conv2D(32, (3, 3)))                        # 32 different 3x3 kernels -- so 32 feature maps\n",
    "model.add(BatchNormalization(axis=-1))               # normalize each feature map before activation\n",
    "model.add(Activation('relu'))                        # activation\n",
    "convLayer02 = MaxPooling2D(pool_size=(2,2))          # Pool the max values over a 2x2 kernel\n",
    "model.add(convLayer02)\n",
    "\n",
    "# Convolution Layer 3\n",
    "model.add(Conv2D(64,(3, 3)))                         # 64 different 3x3 kernels -- so 64 feature maps\n",
    "model.add(BatchNormalization(axis=-1))               # normalize each feature map before activation\n",
    "convLayer03 = Activation('relu')                     # activation\n",
    "model.add(convLayer03)\n",
    "\n",
    "# Convolution Layer 4\n",
    "model.add(Conv2D(64, (3, 3)))                        # 64 different 3x3 kernels -- so 64 feature maps\n",
    "model.add(BatchNormalization(axis=-1))               # normalize each feature map before activation\n",
    "model.add(Activation('relu'))                        # activation\n",
    "convLayer04 = MaxPooling2D(pool_size=(2,2))          # Pool the max values over a 2x2 kernel\n",
    "model.add(convLayer04)\n",
    "model.add(Flatten())                                 # Flatten final 4x4x64 output matrix into a 1024-length vector\n",
    "\n",
    "# Fully Connected Layer 5\n",
    "model.add(Dense(512))                                # 512 FCN nodes\n",
    "model.add(BatchNormalization())                      # normalization\n",
    "model.add(Activation('relu'))                        # activation\n",
    "\n",
    "# Fully Connected Layer 6                       \n",
    "model.add(Dropout(0.2))                              # 20% dropout of randomly selected nodes\n",
    "model.add(Dense(10))                                 # final 10 FCN nodes\n",
    "model.add(Activation('softmax'))                     # softmax activation"
   ]
  },
  {
   "cell_type": "code",
   "execution_count": 32,
   "metadata": {},
   "outputs": [
    {
     "name": "stdout",
     "output_type": "stream",
     "text": [
      "Model: \"sequential_1\"\n",
      "_________________________________________________________________\n",
      "Layer (type)                 Output Shape              Param #   \n",
      "=================================================================\n",
      "conv2d_4 (Conv2D)            (None, 26, 26, 32)        320       \n",
      "_________________________________________________________________\n",
      "batch_normalization_5 (Batch (None, 26, 26, 32)        128       \n",
      "_________________________________________________________________\n",
      "activation_6 (Activation)    (None, 26, 26, 32)        0         \n",
      "_________________________________________________________________\n",
      "conv2d_5 (Conv2D)            (None, 24, 24, 32)        9248      \n",
      "_________________________________________________________________\n",
      "batch_normalization_6 (Batch (None, 24, 24, 32)        128       \n",
      "_________________________________________________________________\n",
      "activation_7 (Activation)    (None, 24, 24, 32)        0         \n",
      "_________________________________________________________________\n",
      "max_pooling2d_2 (MaxPooling2 (None, 12, 12, 32)        0         \n",
      "_________________________________________________________________\n",
      "conv2d_6 (Conv2D)            (None, 10, 10, 64)        18496     \n",
      "_________________________________________________________________\n",
      "batch_normalization_7 (Batch (None, 10, 10, 64)        256       \n",
      "_________________________________________________________________\n",
      "activation_8 (Activation)    (None, 10, 10, 64)        0         \n",
      "_________________________________________________________________\n",
      "conv2d_7 (Conv2D)            (None, 8, 8, 64)          36928     \n",
      "_________________________________________________________________\n",
      "batch_normalization_8 (Batch (None, 8, 8, 64)          256       \n",
      "_________________________________________________________________\n",
      "activation_9 (Activation)    (None, 8, 8, 64)          0         \n",
      "_________________________________________________________________\n",
      "max_pooling2d_3 (MaxPooling2 (None, 4, 4, 64)          0         \n",
      "_________________________________________________________________\n",
      "flatten_1 (Flatten)          (None, 1024)              0         \n",
      "_________________________________________________________________\n",
      "dense_2 (Dense)              (None, 512)               524800    \n",
      "_________________________________________________________________\n",
      "batch_normalization_9 (Batch (None, 512)               2048      \n",
      "_________________________________________________________________\n",
      "activation_10 (Activation)   (None, 512)               0         \n",
      "_________________________________________________________________\n",
      "dropout_1 (Dropout)          (None, 512)               0         \n",
      "_________________________________________________________________\n",
      "dense_3 (Dense)              (None, 10)                5130      \n",
      "_________________________________________________________________\n",
      "activation_11 (Activation)   (None, 10)                0         \n",
      "=================================================================\n",
      "Total params: 597,738\n",
      "Trainable params: 596,330\n",
      "Non-trainable params: 1,408\n",
      "_________________________________________________________________\n"
     ]
    }
   ],
   "source": [
    "model.summary()"
   ]
  },
  {
   "cell_type": "code",
   "execution_count": 33,
   "metadata": {},
   "outputs": [],
   "source": [
    "model.compile(loss='categorical_crossentropy', optimizer='adam', metrics=['accuracy'])"
   ]
  },
  {
   "cell_type": "code",
   "execution_count": 34,
   "metadata": {},
   "outputs": [],
   "source": [
    "gen = ImageDataGenerator(rotation_range=8, width_shift_range=0.08, shear_range=0.3,\n",
    "                         height_shift_range=0.08, zoom_range=0.08)"
   ]
  },
  {
   "cell_type": "code",
   "execution_count": 35,
   "metadata": {},
   "outputs": [],
   "source": [
    "train_generator = gen.flow(X_train, y_train, batch_size=64)"
   ]
  },
  {
   "cell_type": "code",
   "execution_count": 37,
   "metadata": {},
   "outputs": [
    {
     "name": "stdout",
     "output_type": "stream",
     "text": [
      "Epoch 1/20\n",
      "114/114 [==============================] - 46s 401ms/step - loss: 0.0264 - accuracy: 0.9921 - val_loss: 0.0278 - val_accuracy: 0.9852\n",
      "Epoch 2/20\n",
      "114/114 [==============================] - 45s 398ms/step - loss: 0.0197 - accuracy: 0.9942 - val_loss: 0.0040 - val_accuracy: 1.0000\n",
      "Epoch 3/20\n",
      "114/114 [==============================] - 42s 367ms/step - loss: 0.0152 - accuracy: 0.9952 - val_loss: 0.0032 - val_accuracy: 1.0000\n",
      "Epoch 4/20\n",
      "114/114 [==============================] - 37s 327ms/step - loss: 0.0106 - accuracy: 0.9974 - val_loss: 0.0027 - val_accuracy: 1.0000\n",
      "Epoch 5/20\n",
      "114/114 [==============================] - 39s 342ms/step - loss: 0.0251 - accuracy: 0.9920 - val_loss: 0.0135 - val_accuracy: 0.9963\n",
      "Epoch 6/20\n",
      "114/114 [==============================] - 39s 344ms/step - loss: 0.0134 - accuracy: 0.9961 - val_loss: 0.0027 - val_accuracy: 1.0000\n",
      "Epoch 7/20\n",
      "114/114 [==============================] - 40s 349ms/step - loss: 0.0253 - accuracy: 0.9927 - val_loss: 0.0107 - val_accuracy: 0.9975\n",
      "Epoch 8/20\n",
      "114/114 [==============================] - 39s 343ms/step - loss: 0.0142 - accuracy: 0.9949 - val_loss: 0.0113 - val_accuracy: 0.9951\n",
      "Epoch 9/20\n",
      "114/114 [==============================] - 42s 366ms/step - loss: 0.0104 - accuracy: 0.9968 - val_loss: 0.0058 - val_accuracy: 0.9988\n",
      "Epoch 10/20\n",
      "114/114 [==============================] - 41s 363ms/step - loss: 0.0178 - accuracy: 0.9939 - val_loss: 0.0634 - val_accuracy: 0.9852\n",
      "Epoch 11/20\n",
      "114/114 [==============================] - 39s 346ms/step - loss: 0.0141 - accuracy: 0.9953 - val_loss: 0.0067 - val_accuracy: 0.9975\n",
      "Epoch 12/20\n",
      "114/114 [==============================] - 37s 321ms/step - loss: 0.0107 - accuracy: 0.9968 - val_loss: 0.0015 - val_accuracy: 1.0000\n",
      "Epoch 13/20\n",
      "114/114 [==============================] - 38s 330ms/step - loss: 0.0089 - accuracy: 0.9971 - val_loss: 9.8254e-04 - val_accuracy: 1.0000\n",
      "Epoch 14/20\n",
      "114/114 [==============================] - 39s 343ms/step - loss: 0.0122 - accuracy: 0.9966 - val_loss: 0.0072 - val_accuracy: 0.9963\n",
      "Epoch 15/20\n",
      "114/114 [==============================] - 40s 348ms/step - loss: 0.0063 - accuracy: 0.9981 - val_loss: 0.0032 - val_accuracy: 0.9988\n",
      "Epoch 16/20\n",
      "114/114 [==============================] - 42s 367ms/step - loss: 0.0095 - accuracy: 0.9970 - val_loss: 0.0038 - val_accuracy: 0.9988\n",
      "Epoch 17/20\n",
      "114/114 [==============================] - 34s 296ms/step - loss: 0.0090 - accuracy: 0.9971 - val_loss: 0.0016 - val_accuracy: 1.0000\n",
      "Epoch 18/20\n",
      "114/114 [==============================] - 42s 372ms/step - loss: 0.0237 - accuracy: 0.9923 - val_loss: 0.0088 - val_accuracy: 0.9975\n",
      "Epoch 19/20\n",
      "114/114 [==============================] - 40s 348ms/step - loss: 0.0119 - accuracy: 0.9952 - val_loss: 0.0017 - val_accuracy: 1.0000\n",
      "Epoch 20/20\n",
      "114/114 [==============================] - 41s 360ms/step - loss: 0.0078 - accuracy: 0.9982 - val_loss: 0.0026 - val_accuracy: 0.9988\n"
     ]
    }
   ],
   "source": [
    "history = model.fit_generator(\n",
    "    train_generator, \n",
    "    steps_per_epoch=X_train.shape[0] // batch_size, \n",
    "    epochs = epochs, \n",
    "    verbose=1, \n",
    "    validation_data = (X_val,y_val), \n",
    "    validation_steps=X_val.shape[0] // batch_size\n",
    ")"
   ]
  },
  {
   "cell_type": "code",
   "execution_count": 38,
   "metadata": {},
   "outputs": [
    {
     "data": {
      "text/plain": [
       "[<matplotlib.lines.Line2D at 0x1b18f7ca588>]"
      ]
     },
     "execution_count": 38,
     "metadata": {},
     "output_type": "execute_result"
    },
    {
     "data": {
      "image/png": "[encoded data removed]",
      "text/plain": [
       "<Figure size 432x288 with 1 Axes>"
      ]
     },
     "metadata": {},
     "output_type": "display_data"
    }
   ],
   "source": [
    "plt.title('Loss')\n",
    "plt.plot(history.history['loss'], label='Training loss')\n",
    "plt.plot(history.history['val_loss'], label='Validation loss')"
   ]
  },
  {
   "cell_type": "code",
   "execution_count": 40,
   "metadata": {},
   "outputs": [
    {
     "name": "stdout",
     "output_type": "stream",
     "text": [
      "26/26 [==============================] - 1s 39ms/step - loss: 0.0026 - accuracy: 0.9988\n",
      "Val accuracy: 0.998769998550415\n"
     ]
    }
   ],
   "source": [
    "score = model.evaluate(X_val, y_val)\n",
    "print('Val accuracy:', score[1])"
   ]
  },
  {
   "cell_type": "code",
   "execution_count": 41,
   "metadata": {},
   "outputs": [],
   "source": [
    "# Predict the values from the validation dataset\n",
    "y_pred = model.predict(X_test)\n",
    "# Convert predictions classes to one hot vectors \n",
    "y_pred_classes = np.argmax(y_pred, axis=1)"
   ]
  },
  {
   "cell_type": "code",
   "execution_count": 44,
   "metadata": {},
   "outputs": [
    {
     "name": "stdout",
     "output_type": "stream",
     "text": [
      "              precision    recall  f1-score   support\n",
      "\n",
      "         0.0       1.00      1.00      1.00       221\n",
      "         1.0       1.00      1.00      1.00       206\n",
      "         2.0       1.00      1.00      1.00       200\n",
      "         3.0       1.00      1.00      1.00       217\n",
      "         4.0       1.00      1.00      1.00       201\n",
      "         5.0       1.00      0.99      1.00       190\n",
      "         6.0       1.00      1.00      1.00       203\n",
      "         7.0       1.00      0.99      1.00       198\n",
      "         8.0       1.00      1.00      1.00       200\n",
      "         9.0       1.00      1.00      1.00       196\n",
      "\n",
      "    accuracy                           1.00      2032\n",
      "   macro avg       1.00      1.00      1.00      2032\n",
      "weighted avg       1.00      1.00      1.00      2032\n",
      "\n"
     ]
    }
   ],
   "source": [
    "print(classification_report(y_test, y_pred_classes))"
   ]
  },
  {
   "cell_type": "code",
   "execution_count": 45,
   "metadata": {},
   "outputs": [
    {
     "data": {
      "image/png": "[encoded data removed]",
      "text/plain": [
       "<Figure size 432x288 with 2 Axes>"
      ]
     },
     "metadata": {},
     "output_type": "display_data"
    }
   ],
   "source": [
    "# Confusion matrix\n",
    "fig, ax = plt.subplots(figsize=(6, 4))\n",
    "sns.heatmap(\n",
    "    confusion_matrix(y_test, y_pred_classes), \n",
    "    cmap='YlGnBu', \n",
    "    linewidths=.2,\n",
    "    linecolor='gray',\n",
    "    cbar_kws={\"shrink\": .8},\n",
    "    annot = True,\n",
    "    fmt='d'\n",
    ")\n",
    "plt.show()"
   ]
  },
  {
   "cell_type": "code",
   "execution_count": 46,
   "metadata": {},
   "outputs": [],
   "source": [
    "model.save(\"CNN_digit_model.h5\")"
   ]
  },
  {
   "cell_type": "markdown",
   "metadata": {},
   "source": [
    "### Predict function"
   ]
  },
  {
   "cell_type": "code",
   "execution_count": 29,
   "metadata": {},
   "outputs": [],
   "source": [
    "im = Image.open('dataset/4/img005-00001.png')\n",
    "image = np.array(im.resize((28,28)))"
   ]
  },
  {
   "cell_type": "code",
   "execution_count": 30,
   "metadata": {},
   "outputs": [],
   "source": [
    "imagem = (255-image)/255"
   ]
  },
  {
   "cell_type": "code",
   "execution_count": 31,
   "metadata": {},
   "outputs": [
    {
     "data": {
      "text/plain": [
       "(28, 28)"
      ]
     },
     "execution_count": 31,
     "metadata": {},
     "output_type": "execute_result"
    }
   ],
   "source": [
    "imagem.shape"
   ]
  },
  {
   "cell_type": "code",
   "execution_count": 32,
   "metadata": {},
   "outputs": [
    {
     "data": {
      "text/plain": [
       "1.0"
      ]
     },
     "execution_count": 32,
     "metadata": {},
     "output_type": "execute_result"
    }
   ],
   "source": [
    "imagem.max()"
   ]
  },
  {
   "cell_type": "code",
   "execution_count": 33,
   "metadata": {},
   "outputs": [],
   "source": [
    "from keras.models import load_model\n",
    "clf_trained = load_model(\"CNN_digit_model.h5\")\n",
    "\n",
    "X_image = imagem.reshape(1, 28, 28, 1)"
   ]
  },
  {
   "cell_type": "code",
   "execution_count": 36,
   "metadata": {},
   "outputs": [],
   "source": [
    "y_image_pred = clf_trained.predict(X_image)\n",
    "y_image_pred_classes = np.argmax(y_image_pred, axis=1)[0]"
   ]
  },
  {
   "cell_type": "code",
   "execution_count": 37,
   "metadata": {},
   "outputs": [
    {
     "data": {
      "text/plain": [
       "4"
      ]
     },
     "execution_count": 37,
     "metadata": {},
     "output_type": "execute_result"
    }
   ],
   "source": [
    "y_image_pred_classes"
   ]
  },
  {
   "cell_type": "code",
   "execution_count": null,
   "metadata": {},
   "outputs": [],
   "source": []
  }
 ],
 "metadata": {
  "kernelspec": {
   "display_name": "Python 3",
   "language": "python",
   "name": "python3"
  },
  "language_info": {
   "codemirror_mode": {
    "name": "ipython",
    "version": 3
   },
   "file_extension": ".py",
   "mimetype": "text/x-python",
   "name": "python",
   "nbconvert_exporter": "python",
   "pygments_lexer": "ipython3",
   "version": "3.6.13"
  }
 },
 "nbformat": 4,
 "nbformat_minor": 4
}
